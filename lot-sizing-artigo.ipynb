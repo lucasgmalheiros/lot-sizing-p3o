{
 "cells": [
  {
   "cell_type": "code",
   "execution_count": 1,
   "id": "09fbbaf2",
   "metadata": {},
   "outputs": [],
   "source": [
    "from pyomo.environ import *\n",
    "from pyomo.opt import SolverFactory\n",
    "import ast\n",
    "import numpy as np\n",
    "import warnings\n",
    "warnings.filterwarnings('ignore')"
   ]
  },
  {
   "cell_type": "code",
   "execution_count": 2,
   "id": "97cae9fb",
   "metadata": {},
   "outputs": [],
   "source": [
    "# Arquivo de dados\n",
    "path = \"INSTANCIAS 4P2/min01.dat\""
   ]
  },
  {
   "cell_type": "markdown",
   "id": "98b8bd95",
   "metadata": {},
   "source": [
    "# Entrada de dados"
   ]
  },
  {
   "cell_type": "code",
   "execution_count": 3,
   "id": "da21b519",
   "metadata": {
    "scrolled": false
   },
   "outputs": [],
   "source": [
    "# Leitura do arquivo.dat\n",
    "with open(path, \"r\") as file:\n",
    "    dados = file.readlines()\n",
    "    numero_ligas = ast.literal_eval(dados[0])  # Ligas (K)\n",
    "    numero_pedidos = ast.literal_eval(dados[1])  # Pedidos (I)\n",
    "    numero_itens = ast.literal_eval(dados[2])  # Itens (J)\n",
    "    numero_periodos = ast.literal_eval(dados[3])  # Periodos (T)\n",
    "    numero_subp = ast.literal_eval(dados[4])  # Subperiodos (n)\n",
    "    numero_capacidade = ast.literal_eval(dados[5])  # Capacidade (cap)\n",
    "    matriz_custo_atraso = ast.literal_eval(dados[6])  # Custo de atraso de pedidos (BO_it)\n",
    "    vetor_custo_estoque = ast.literal_eval(dados[7])  # Custo de estoque por item no último período (H_jT)\n",
    "    vetor_peso_itens = ast.literal_eval(dados[8])  # Peso dos itens (p_j)\n",
    "    matriz_demanda = ast.literal_eval(dados[9])  # Demanda do item j no pedido i (a_ji)\n",
    "    matriz_due_date = ast.literal_eval(dados[10])  # Due date (d_it)\n",
    "    conjunto_itens_pedido = ast.literal_eval(dados[11])  # Itens que pertencem ao pedido i: Set S(i)\n",
    "    conjunto_ordens_item = ast.literal_eval(dados[12])  # Ordens que contém o item j: Set A(j)\n",
    "    conjunto_itens_liga = ast.literal_eval(dados[13])  # Itens a serem produzidos com a liga k: Set L(k)"
   ]
  },
  {
   "cell_type": "code",
   "execution_count": 4,
   "id": "faa0688f",
   "metadata": {
    "scrolled": false
   },
   "outputs": [],
   "source": [
    "# Ajuste dos dados ao Pyomo\n",
    "# Conjuntos\n",
    "Ligas = np.arange(1, numero_ligas + 1)  # k\n",
    "Pedidos = np.arange(1, numero_pedidos + 1)  # i\n",
    "Itens = np.arange(1, numero_itens + 1)  # j\n",
    "Periodos = np.arange(1, numero_periodos + 1)  # t\n",
    "Subperiodos = np.arange(1, numero_subp * numero_periodos + 1)  # n\n",
    "\n",
    "# Subconjuntos\n",
    "sub_S = dict(zip(Pedidos, conjunto_itens_pedido))\n",
    "sub_A = dict(zip(Itens, conjunto_ordens_item))\n",
    "sub_L = dict(zip(Ligas, conjunto_itens_liga))\n",
    "\n",
    "# Parâmetros\n",
    "numero_subperiodos = numero_subp  # NS\n",
    "capacidade_fornalha = numero_capacidade  # cap\n",
    "penalidade_atraso = np.array(matriz_custo_atraso).ravel()  # bo_{it}\n",
    "penalidade_ultimo_estoque = np.array(vetor_custo_estoque)  # h_j\n",
    "peso_item = np.array(vetor_peso_itens)  # p_j\n",
    "demanda = np.array(matriz_demanda).ravel()  # a_{ji}\n",
    "due_date = np.array(matriz_due_date).ravel()  # d_{it}\n",
    "\n",
    "# Tuplas de índices\n",
    "i_t = np.array(np.meshgrid(Pedidos, Periodos)).T.reshape(-1, 2)\n",
    "i_t = [tuple(i_t[a]) for a in range(len(i_t))]\n",
    "j_i = np.array(np.meshgrid(Itens, Pedidos)).T.reshape(-1, 2)\n",
    "j_i = [tuple(j_i[a]) for a in range(len(j_i))]\n",
    "\n",
    "# Dicionários para leitura\n",
    "penalidade_atraso = dict(zip(i_t, penalidade_atraso))\n",
    "beneficio_ultimo_estoque = dict(zip(Itens, penalidade_ultimo_estoque))\n",
    "peso_item = dict(zip(Itens, peso_item))\n",
    "demanda = dict(zip(j_i, demanda))\n",
    "due_date = dict(zip(i_t, due_date))\n",
    "\n",
    "# Parâmetros do modelo indisponíveis nas instâncias\n",
    "penalidade_entrega_excesso = 0\n",
    "beneficio_entrega_adiantada = 0\n",
    "maximo_extra_delivery = 0"
   ]
  },
  {
   "cell_type": "markdown",
   "id": "f0f950c2",
   "metadata": {},
   "source": [
    "# Modelo"
   ]
  },
  {
   "cell_type": "code",
   "execution_count": 5,
   "id": "02d35eed",
   "metadata": {},
   "outputs": [],
   "source": [
    "model = ConcreteModel()"
   ]
  },
  {
   "cell_type": "markdown",
   "id": "e2a96c1d",
   "metadata": {},
   "source": [
    "# Conjuntos"
   ]
  },
  {
   "cell_type": "code",
   "execution_count": 6,
   "id": "d7e363ca",
   "metadata": {},
   "outputs": [],
   "source": [
    "# Conjuntos\n",
    "model.K = Set(initialize=Ligas)  # Tipos de ligas (índice k)\n",
    "model.I = Set(initialize=Pedidos)  # Pedidos ou ordens (índice i)\n",
    "model.N = Set(initialize=Itens)  # Tipos de itens (índice j)\n",
    "model.T = Set(initialize=Periodos)  # Períodos de produção (índice t)\n",
    "model.L = Set(initialize=Subperiodos)  # Subperíodos da produção (índice n)\n",
    "# Subconjuntos\n",
    "model.S = Set(Pedidos, initialize=sub_S)  # S(i) itens contidos na ordem i\n",
    "model.A = Set(Itens, initialize=sub_A)  # A(j) conjunto de ordens que contém o item j\n",
    "model.P = Set(Ligas, initialize=sub_L)  # L(k) itens a serem produzidos com a liga k\n",
    "\n",
    "K, I, N, T, L, S, A, P = model.K, model.I, model.N, model.T, model.L, model.S, model.A, model.P"
   ]
  },
  {
   "cell_type": "markdown",
   "id": "7997b0d1",
   "metadata": {},
   "source": [
    "# Parâmetros"
   ]
  },
  {
   "cell_type": "code",
   "execution_count": 7,
   "id": "d6a4090f",
   "metadata": {},
   "outputs": [],
   "source": [
    "# Funções de inicialização de parâmetros\n",
    "\n",
    "# Primeiro subperíodo no período t\n",
    "def first_init(model, t):\n",
    "    if t == 1:\n",
    "        return 1\n",
    "    else:\n",
    "        return 1 + sum(model.NS[r] for r in range(1, t))\n",
    "    \n",
    "# Último subperíodo no período t\n",
    "def last_init(model, t):\n",
    "    return sum(model.NS[r] for r in range(1, t + 1))"
   ]
  },
  {
   "cell_type": "code",
   "execution_count": 8,
   "id": "03a02ce3",
   "metadata": {},
   "outputs": [],
   "source": [
    "# Número de subperíodos por período t\n",
    "model.NS = Param(T, initialize=numero_subperiodos, within=NonNegativeReals)\n",
    "# Primeiro subperíodo no período t\n",
    "model.f = Param(T, initialize=first_init, within=NonNegativeReals)\n",
    "# Último subperíodo no período t\n",
    "model.l = Param(T, initialize=last_init, within=NonNegativeReals)\n",
    "# Penalidade por atraso do pedido i no período t\n",
    "model.bo = Param(I * T, initialize=penalidade_atraso, within=NonNegativeReals)\n",
    "# Penalidade por entrega em excesso do pedido i no período t\n",
    "model.pe = Param(I * T, initialize=penalidade_entrega_excesso, within=NonNegativeReals)\n",
    "# Ganho por entrega adiantada do item j do pedido i no período t\n",
    "model.r = Param(N * I * T, initialize=beneficio_entrega_adiantada, within=NonNegativeReals)\n",
    "# Ganho por segurar o item j no fim do horizonte de planejamento (período T)\n",
    "model.h = Param(N, initialize=beneficio_ultimo_estoque, within=NonNegativeReals)\n",
    "# Due date: 1 se prazo de entrega está no período, zero caso contrário\n",
    "model.d = Param(I * T, initialize=due_date, within=Binary)\n",
    "# Peso do item j (kg)\n",
    "model.p = Param(N, initialize=peso_item, within=NonNegativeReals)\n",
    "# Capacidade de uma fornalha (kg)\n",
    "model.cap = Param(initialize=capacidade_fornalha, within=NonNegativeReals)\n",
    "# Número máximo de entregas extras da ordem i\n",
    "model.me = Param(I, initialize=maximo_extra_delivery, within=NonNegativeReals)\n",
    "# Unidades do item j pedidas na ordem i\n",
    "model.a = Param(N * I, initialize=demanda, within=NonNegativeReals)\n",
    "\n",
    "NS, f, l, bo, pe, r, h, d, p, cap, me, a = (model.NS, model.f, model.l, model.bo, model.pe, model.r,\n",
    "                                            model.h, model.d, model.p, model.cap, model.me,model.a)"
   ]
  },
  {
   "cell_type": "markdown",
   "id": "c8dcb6d8",
   "metadata": {},
   "source": [
    "# Variáveis de decisão"
   ]
  },
  {
   "cell_type": "code",
   "execution_count": 9,
   "id": "5a31e3d1",
   "metadata": {},
   "outputs": [],
   "source": [
    "# Recebe 1 caso haja atraso da ordem i no período t\n",
    "model.BO = Var(I * T, within=Binary)\n",
    "# Recebe 1 em caso de entrega extra de i no período t\n",
    "model.E = Var(I * T, within=Binary)\n",
    "# Quantidade do item j da ordem i entregue no período t em uma entrega extra\n",
    "model.G = Var(N * I * T, within=NonNegativeReals)\n",
    "# Número de itens j estocados ao fim do período t\n",
    "model.Q = Var(N * T, within=NonNegativeReals)\n",
    "# Recebe 1 se a ordem i é concluída no período t\n",
    "model.XO = Var(I * T, within=Binary)\n",
    "# Número de itens j produzidos no subperíodo n\n",
    "model.X = Var(N * L, within=NonNegativeReals) # Relaxação\n",
    "# Recebe 1 caso a fornalha seja utilizada para produzir a liga k no subperíodo n\n",
    "model.Y = Var(K * L, within=NonNegativeReals, bounds=(0, 1)) # Relaxação\n",
    "# Quantidade de itens j do pedido i entregues no período t\n",
    "model.W = Var(N * I * T, within=NonNegativeIntegers)\n",
    "\n",
    "BO, E, G, Q, XO, X, Y, W = model.BO, model.E, model.G, model.Q, model.XO, model.X, model.Y, model.W"
   ]
  },
  {
   "cell_type": "markdown",
   "id": "20dc569b",
   "metadata": {},
   "source": [
    "# Função objetivo (2.1)"
   ]
  },
  {
   "cell_type": "code",
   "execution_count": 10,
   "id": "2a18a55d",
   "metadata": {},
   "outputs": [],
   "source": [
    "# Minimizar custos\n",
    "model.obj = Objective(sense=minimize,\n",
    "                      expr=sum(sum(bo[i, t] * BO[i, t] + pe[i, t] * E[i, t] for t in T) for i in I) -\n",
    "                           sum(sum(r[j, i, t] * G[j, i, t] for i in I for j in S[i]) for t in T) -\n",
    "                           sum(h[j] * Q[j, max(T)] for j in N))\n",
    "\n",
    "Z = model.obj"
   ]
  },
  {
   "cell_type": "markdown",
   "id": "b9bb8d20",
   "metadata": {},
   "source": [
    "# Restrições"
   ]
  },
  {
   "cell_type": "markdown",
   "id": "f8299796",
   "metadata": {
    "scrolled": false
   },
   "source": [
    "## Define quando a ordem é completada (2.2)"
   ]
  },
  {
   "cell_type": "code",
   "execution_count": 11,
   "id": "5bee7ac8",
   "metadata": {},
   "outputs": [],
   "source": [
    "model.r_complete = ConstraintList()\n",
    "for i in I:\n",
    "    for t in T:\n",
    "        if t == 1:\n",
    "            restr = XO[i, t] + BO[i, t] == d[i, t]\n",
    "            model.r_complete.add(expr=restr)\n",
    "        else:\n",
    "            restr = XO[i, t] + BO[i, t] == d[i, t] + BO[i, t - 1]\n",
    "            model.r_complete.add(expr=restr)"
   ]
  },
  {
   "cell_type": "markdown",
   "id": "65b3218b",
   "metadata": {},
   "source": [
    "## Balanço de estoques (2.3)"
   ]
  },
  {
   "cell_type": "code",
   "execution_count": 12,
   "id": "dcb76366",
   "metadata": {},
   "outputs": [],
   "source": [
    "model.r_balanco = ConstraintList()\n",
    "for j in N:\n",
    "    for t in T:\n",
    "        if t == 1:\n",
    "            restr = (sum(X[j, n] for n in range(f[t], l[t] + 1)) ==\n",
    "                     Q[j, t] + sum(W[j, i, t] for i in A[j]))\n",
    "            model.r_balanco.add(expr=restr)\n",
    "        else:\n",
    "            restr = (Q[j, t - 1] + sum(X[j, n] for n in range(f[t], l[t] + 1)) == \n",
    "                     Q[j, t] + sum(W[j, i, t] for i in A[j]))\n",
    "            model.r_balanco.add(expr=restr)"
   ]
  },
  {
   "cell_type": "markdown",
   "id": "1a3f17a1",
   "metadata": {},
   "source": [
    "## Uso da fornalha no período (2.4)"
   ]
  },
  {
   "cell_type": "code",
   "execution_count": 13,
   "id": "77f20584",
   "metadata": {},
   "outputs": [],
   "source": [
    "model.r_uso_fornalha = ConstraintList()\n",
    "for n in L:\n",
    "    restr = sum(Y[k, n] for k in K) <= 1\n",
    "    model.r_uso_fornalha.add(expr=restr)"
   ]
  },
  {
   "cell_type": "markdown",
   "id": "f203699c",
   "metadata": {},
   "source": [
    "## Capacidade da fornalha (2.5)"
   ]
  },
  {
   "cell_type": "code",
   "execution_count": 14,
   "id": "c697ad11",
   "metadata": {},
   "outputs": [],
   "source": [
    "model.r_capacidade_fornalha = ConstraintList()\n",
    "for k in K:\n",
    "    for n in L:\n",
    "        restr = sum(p[j] * X[j, n] for j in P[k]) <= cap * Y[k, n]\n",
    "        model.r_capacidade_fornalha.add(expr=restr)"
   ]
  },
  {
   "cell_type": "markdown",
   "id": "dbd1372b",
   "metadata": {},
   "source": [
    "## Produção limitada à demanda (2.6)"
   ]
  },
  {
   "cell_type": "code",
   "execution_count": 15,
   "id": "a7f66dbe",
   "metadata": {},
   "outputs": [],
   "source": [
    "model.r_limite_producao_demanda = ConstraintList()\n",
    "for j in N:\n",
    "    restr = sum(X[j, n] for n in L) <= sum(a[j, i] for i in I)\n",
    "    model.r_limite_producao_demanda.add(expr=restr)"
   ]
  },
  {
   "cell_type": "markdown",
   "id": "a9deb863",
   "metadata": {},
   "source": [
    "## Entrega só ocorre quando a ordem é concluída ou extra delivery (2.7)"
   ]
  },
  {
   "cell_type": "code",
   "execution_count": 16,
   "id": "2af3d14f",
   "metadata": {},
   "outputs": [],
   "source": [
    "model.r_entregas = ConstraintList()\n",
    "for i in I:\n",
    "    for t in T:\n",
    "        for j in S[i]:\n",
    "            restr = W[j, i , t] <= a[j, i] * (XO[i, t] + E[i, t])\n",
    "            model.r_entregas.add(expr=restr)"
   ]
  },
  {
   "cell_type": "markdown",
   "id": "39877adf",
   "metadata": {},
   "source": [
    "## Entregas limitadas à demanda (2.8)"
   ]
  },
  {
   "cell_type": "code",
   "execution_count": 17,
   "id": "20e2f13e",
   "metadata": {},
   "outputs": [],
   "source": [
    "model.r_limite_entrega_demanda = ConstraintList()\n",
    "for j in N:\n",
    "    for i in A[j]:\n",
    "        restr = sum(W[j, i, t] for t in T) <= a[j, i]\n",
    "        model.r_limite_entrega_demanda.add(expr=restr)"
   ]
  },
  {
   "cell_type": "markdown",
   "id": "16775f73",
   "metadata": {},
   "source": [
    "## Entregas extras apenas de ordens em aberto no período (2.9)"
   ]
  },
  {
   "cell_type": "code",
   "execution_count": 18,
   "id": "a6d8d4a8",
   "metadata": {
    "scrolled": true
   },
   "outputs": [],
   "source": [
    "model.r_entrega_extra = ConstraintList()\n",
    "for i in I:\n",
    "    for t in T:\n",
    "        restr = XO[i, t] + E[i, t] <= 1\n",
    "        model.r_entrega_extra.add(expr=restr)"
   ]
  },
  {
   "cell_type": "markdown",
   "id": "526acefb",
   "metadata": {},
   "source": [
    "## Conclusão da ordem quando todos os itens foram entregues (2.10)"
   ]
  },
  {
   "cell_type": "code",
   "execution_count": 19,
   "id": "b3a000eb",
   "metadata": {},
   "outputs": [],
   "source": [
    "model.r_conclusao_ordem = ConstraintList()\n",
    "for t in T:\n",
    "    for i in I:\n",
    "        for j in S[i]:\n",
    "            restr = sum(W[j, i, l] for l in range(1, t + 1)) >= a[j, i] * XO[i, t]\n",
    "            model.r_conclusao_ordem.add(expr=restr)"
   ]
  },
  {
   "cell_type": "markdown",
   "id": "c36742b8",
   "metadata": {},
   "source": [
    "## Limite superior de entregas extras (2.11)"
   ]
  },
  {
   "cell_type": "code",
   "execution_count": 20,
   "id": "a73c0f15",
   "metadata": {},
   "outputs": [],
   "source": [
    "model.r_limite_entrega_extra = ConstraintList()\n",
    "for i in I:\n",
    "    restr = sum(E[i, t] for t in T) <= me[i]\n",
    "    model.r_limite_entrega_extra.add(expr=restr)"
   ]
  },
  {
   "cell_type": "markdown",
   "id": "6135a5cc",
   "metadata": {},
   "source": [
    "## Limite da quantidade de itens entregues com adiantamento (2.12)"
   ]
  },
  {
   "cell_type": "code",
   "execution_count": 21,
   "id": "bf1c1eba",
   "metadata": {},
   "outputs": [],
   "source": [
    "model.r_limite_entrega_adiantada_1 = ConstraintList()\n",
    "for t in T:\n",
    "    for i in I:\n",
    "        for j in S[i]:\n",
    "            restr = G[j, i, t] <= W[j, i, t]\n",
    "            model.r_limite_entrega_adiantada_1.add(expr=restr)"
   ]
  },
  {
   "cell_type": "code",
   "execution_count": 22,
   "id": "afb57e09",
   "metadata": {},
   "outputs": [],
   "source": [
    "model.r_limite_entrega_adiantada_2 = ConstraintList()\n",
    "for t in T:\n",
    "    for i in I:\n",
    "        for j in S[i]:\n",
    "            restr = G[j, i, t] <= a[j, i] * (1 - XO[i, t])  # Errada no artigo?\n",
    "            model.r_limite_entrega_adiantada_2.add(expr=restr)"
   ]
  },
  {
   "cell_type": "markdown",
   "id": "ed2c02d6",
   "metadata": {},
   "source": [
    "## Remoçao de soluções simétricas (2.17)"
   ]
  },
  {
   "cell_type": "code",
   "execution_count": 23,
   "id": "233b7a9b",
   "metadata": {
    "scrolled": true
   },
   "outputs": [],
   "source": [
    "model.remove_simetria = ConstraintList()\n",
    "for t in T:\n",
    "    for n in range(f[t], l[t]):\n",
    "        restr = sum(Y[k, n] for k in K) >= sum(Y[k, n + 1] for k in K)\n",
    "        model.remove_simetria.add(expr=restr)"
   ]
  },
  {
   "cell_type": "markdown",
   "id": "b942fc8e",
   "metadata": {},
   "source": [
    "# Relax and fix"
   ]
  },
  {
   "cell_type": "code",
   "execution_count": 24,
   "id": "fa3b12bf",
   "metadata": {
    "scrolled": false
   },
   "outputs": [
    {
     "name": "stdout",
     "output_type": "stream",
     "text": [
      "T = 1\n",
      "Integralizando variáveis do período 1;\n",
      "Resolvendo para o período 1;\n",
      "Solução do período 1 fixada!\n",
      "\n",
      "T = 2\n",
      "Integralizando variáveis do período 2;\n",
      "Resolvendo para o período 2;\n",
      "Solução do período 2 fixada!\n",
      "\n",
      "T = 3\n",
      "Integralizando variáveis do período 3;\n",
      "Resolvendo para o período 3;\n",
      "Solução do período 3 fixada!\n",
      "\n",
      "Heurística relax-and-fix concluída!\n"
     ]
    }
   ],
   "source": [
    "solver = SolverFactory(\"gurobi\")\n",
    "for t in T:\n",
    "    print(f\"T = {t}\")\n",
    "    print(f\"Integralizando variáveis do período {t};\")\n",
    "    for n in range(f[t], l[t] + 1): # Subperíodos pertencentes ao período t\n",
    "        # Variáveis X tornam-se inteiras\n",
    "        for j in N:\n",
    "            X[j, n].domain = NonNegativeIntegers\n",
    "        # Variáveis Y tornam-se inteiras\n",
    "        for k in K:\n",
    "            Y[k, n].domain = NonNegativeIntegers\n",
    "    # Resolução inteira no período t\n",
    "    print(f\"Resolvendo para o período {t};\")\n",
    "    solver.solve(model, tee=False)\n",
    "    # Fixar variáveis para próxima iteração\n",
    "    for n in range(f[t], l[t] + 1):\n",
    "        for j in N:\n",
    "            X[j, n].fix()\n",
    "        for k in K:\n",
    "            Y[k, n].fix()\n",
    "    print(f\"Solução do período {t} fixada!\\n\")\n",
    "print(\"Heurística relax-and-fix concluída!\")"
   ]
  },
  {
   "cell_type": "code",
   "execution_count": 25,
   "id": "e14220c9",
   "metadata": {},
   "outputs": [
    {
     "name": "stdout",
     "output_type": "stream",
     "text": [
      "Instância: INSTANCIAS 4P2/min01.dat\n",
      "\n",
      "Valor da função objetivo por relax-and-fix: 36.96\n"
     ]
    }
   ],
   "source": [
    "print(f\"Instância: {path}\\n\")\n",
    "print(f\"Valor da função objetivo por relax-and-fix: {value(Z) :.2f}\")"
   ]
  }
 ],
 "metadata": {
  "kernelspec": {
   "display_name": "Python 3 (ipykernel)",
   "language": "python",
   "name": "python3"
  },
  "language_info": {
   "codemirror_mode": {
    "name": "ipython",
    "version": 3
   },
   "file_extension": ".py",
   "mimetype": "text/x-python",
   "name": "python",
   "nbconvert_exporter": "python",
   "pygments_lexer": "ipython3",
   "version": "3.11.3"
  },
  "nbTranslate": {
   "displayLangs": [
    "*"
   ],
   "hotkey": "alt-t",
   "langInMainMenu": true,
   "sourceLang": "en",
   "targetLang": "fr",
   "useGoogleTranslate": true
  },
  "toc": {
   "base_numbering": 1,
   "nav_menu": {},
   "number_sections": true,
   "sideBar": true,
   "skip_h1_title": false,
   "title_cell": "Table of Contents",
   "title_sidebar": "Contents",
   "toc_cell": false,
   "toc_position": {
    "height": "calc(100% - 180px)",
    "left": "10px",
    "top": "150px",
    "width": "242.6px"
   },
   "toc_section_display": true,
   "toc_window_display": false
  }
 },
 "nbformat": 4,
 "nbformat_minor": 5
}
